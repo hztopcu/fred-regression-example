{
 "cells": [
  {
   "cell_type": "code",
   "execution_count": null,
   "id": "cd80241b",
   "metadata": {},
   "outputs": [],
   "source": [
    "\"\"\"\n",
    "fred_regression_example.py\n",
    "\n",
    "A simple script to fetch FRED data (FEDFUNDS and CPI) from the FRED API,\n",
    "perform a linear regression of CPI on FEDFUNDS, and plot the results.\n",
    "\n",
    "Requirements:\n",
    "- pandas\n",
    "- pandas_datareader\n",
    "- statsmodels\n",
    "- matplotlib\n",
    "\n",
    "Usage:\n",
    "1. Obtain a FRED API key from https://fred.stlouisfed.org/\n",
    "2. Set environment variable in your terminal:\n",
    "   set FRED_API_KEY=YOUR_KEY  # Windows CMD\n",
    "   $Env:FRED_API_KEY='YOUR_KEY'  # PowerShell\n",
    "3. Run the script:\n",
    "   python fred_regression_example.py\n",
    "\n",
    "Outputs:\n",
    "- regression_summary.txt: Model summary statistics\n",
    "- cpi_vs_fedfunds.png: Scatter plot with regression line\n",
    "\"\"\""
   ]
  },
  {
   "cell_type": "code",
   "execution_count": null,
   "id": "b4006a20",
   "metadata": {},
   "outputs": [],
   "source": [
    "import os\n",
    "import datetime\n",
    "import pandas as pd\n",
    "import matplotlib.pyplot as plt\n",
    "from pandas_datareader import data as web\n",
    "import statsmodels.api as sm"
   ]
  },
  {
   "cell_type": "code",
   "execution_count": null,
   "id": "dfafba58",
   "metadata": {},
   "outputs": [],
   "source": [
    "def fetch_fred_series(series_id, start, end, api_key):\n",
    "    return web.DataReader(series_id, \"fred\", start, end, api_key=api_key)"
   ]
  },
  {
   "cell_type": "code",
   "execution_count": null,
   "id": "0ac7dc9c",
   "metadata": {},
   "outputs": [],
   "source": [
    "def main():\n",
    "    api_key = os.getenv(\"FRED_API_KEY\")\n",
    "    if not api_key:\n",
    "        raise RuntimeError(\"Please set FRED_API_KEY environment variable\")\n",
    "\n",
    "    # Define date range\n",
    "    start = datetime.datetime(2000, 1, 1)\n",
    "    end = datetime.datetime.today()\n",
    "\n",
    "    # Fetch data\n",
    "    fedfunds = fetch_fred_series(\"FEDFUNDS\", start, end, api_key)\n",
    "    cpi = fetch_fred_series(\"CPIAUCSL\", start, end, api_key)\n",
    "\n",
    "    # Combine and clean\n",
    "    df = pd.concat([fedfunds, cpi], axis=1).dropna()\n",
    "    df.columns = [\"FEDFUNDS\", \"CPI\"]\n",
    "\n",
    "    # Regression\n",
    "    X = sm.add_constant(df[\"FEDFUNDS\"])\n",
    "    model = sm.OLS(df[\"CPI\"], X).fit()\n",
    "\n",
    "    # Save summary to text file\n",
    "    with open(\"regression_summary.txt\", \"w\") as f:\n",
    "        f.write(model.summary().as_text())\n",
    "\n",
    "    # Print summary to console\n",
    "    print(model.summary())\n",
    "\n",
    "    # Plot\n",
    "    plt.figure()\n",
    "    plt.scatter(df[\"FEDFUNDS\"], df[\"CPI\"], alpha=0.5)\n",
    "    plt.plot(df[\"FEDFUNDS\"], model.predict(X), label=\"Fit Line\")\n",
    "    plt.title(\"CPI vs FEDFUNDS (2000-present)\")\n",
    "    plt.xlabel(\"FEDFUNDS (%)\")\n",
    "    plt.ylabel(\"CPI Index\")\n",
    "    plt.legend()\n",
    "    plt.savefig(\"cpi_vs_fedfunds.png\", dpi=300)\n",
    "    plt.show()"
   ]
  },
  {
   "cell_type": "code",
   "execution_count": null,
   "id": "625417b7",
   "metadata": {},
   "outputs": [],
   "source": [
    "if __name__ == \"__main__\":\n",
    "    main()"
   ]
  }
 ],
 "metadata": {
  "jupytext": {
   "cell_metadata_filter": "-all",
   "main_language": "python",
   "notebook_metadata_filter": "-all"
  }
 },
 "nbformat": 4,
 "nbformat_minor": 5
}
